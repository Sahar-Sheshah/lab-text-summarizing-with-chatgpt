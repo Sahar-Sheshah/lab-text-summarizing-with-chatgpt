{
  "cells": [
    {
      "cell_type": "markdown",
      "metadata": {
        "id": "27J672Gh6j-v"
      },
      "source": [
        "# Text summarizing with ChaptGPT\n",
        "In this lesson, you will summarize text with a focus on specific topics.\n",
        "\n",
        "## Setup"
      ]
    },
    {
      "cell_type": "code",
      "source": [
        "!pip install python-dotenv"
      ],
      "metadata": {
        "colab": {
          "base_uri": "https://localhost:8080/"
        },
        "id": "2GdXb0E_7My7",
        "outputId": "e547c389-3dd1-4c79-a1e6-65167181e6f8"
      },
      "execution_count": 3,
      "outputs": [
        {
          "output_type": "stream",
          "name": "stdout",
          "text": [
            "Collecting python-dotenv\n",
            "  Downloading python_dotenv-1.1.0-py3-none-any.whl.metadata (24 kB)\n",
            "Downloading python_dotenv-1.1.0-py3-none-any.whl (20 kB)\n",
            "Installing collected packages: python-dotenv\n",
            "Successfully installed python-dotenv-1.1.0\n"
          ]
        }
      ]
    },
    {
      "cell_type": "code",
      "execution_count": 4,
      "metadata": {
        "tags": [],
        "id": "1kMUohDp6j-z"
      },
      "outputs": [],
      "source": [
        "from openai import OpenAI\n",
        "import os\n",
        "\n",
        "from dotenv import load_dotenv, find_dotenv\n",
        "_ = load_dotenv(find_dotenv()) # read local .env file\n",
        "\n",
        "OPENAI_API_KEY  = os.getenv('OPENAI_API_KEY')"
      ]
    },
    {
      "cell_type": "code",
      "execution_count": 5,
      "metadata": {
        "tags": [],
        "id": "2TlPQ23B6j-2"
      },
      "outputs": [],
      "source": [
        "client = OpenAI(\n",
        "    # This is the default and can be omitted\n",
        "    api_key=OPENAI_API_KEY,\n",
        ")\n",
        "\n",
        "\n",
        "def get_completion(prompt, model=\"gpt-3.5-turbo\"): # Andrew mentioned that the prompt/ completion paradigm is preferable for this class\n",
        "    messages = [{\"role\": \"user\", \"content\": prompt}]\n",
        "    response = client.chat.completions.create(\n",
        "        model=model,\n",
        "        messages=messages,\n",
        "        temperature=0, # this is the degree of randomness of the model's output\n",
        "    )\n",
        "    return response.choices[0].message.content\n"
      ]
    },
    {
      "cell_type": "markdown",
      "metadata": {
        "id": "N8AGb-g-6j-2"
      },
      "source": [
        "## Text to summarize"
      ]
    },
    {
      "cell_type": "code",
      "execution_count": 6,
      "metadata": {
        "tags": [],
        "id": "-iG38kIH6j-3"
      },
      "outputs": [],
      "source": [
        "prod_review = \"\"\"\n",
        "Got this panda plush toy for my daughter's birthday, \\\n",
        "who loves it and takes it everywhere. It's soft and \\\n",
        "super cute, and its face has a friendly look. It's \\\n",
        "a bit small for what I paid though. I think there \\\n",
        "might be other options that are bigger for the \\\n",
        "same price. It arrived a day earlier than expected, \\\n",
        "so I got to play with it myself before I gave it \\\n",
        "to her.\n",
        "\"\"\""
      ]
    },
    {
      "cell_type": "markdown",
      "metadata": {
        "id": "pPF1ixO36j-3"
      },
      "source": [
        "## Summarize with a word/sentence/character limit"
      ]
    },
    {
      "cell_type": "code",
      "execution_count": 7,
      "metadata": {
        "tags": [],
        "colab": {
          "base_uri": "https://localhost:8080/"
        },
        "id": "4YAeS1CZ6j-4",
        "outputId": "d559d561-d8a6-45fb-e898-40ec532c9ad8"
      },
      "outputs": [
        {
          "output_type": "stream",
          "name": "stdout",
          "text": [
            "```\n",
            "Cute panda plush toy loved by daughter, soft and friendly-looking. Smaller than expected for the price, but arrived early.\n",
            "```\n"
          ]
        }
      ],
      "source": [
        "prompt = f\"\"\"\n",
        "Your task is to generate a short summary of a product \\\n",
        "review from an ecommerce site.\n",
        "\n",
        "Summarize the review below, delimited by triple\n",
        "backticks, in at most 30 words.\n",
        "\n",
        "Review: ```{prod_review}```\n",
        "\"\"\"\n",
        "\n",
        "response = get_completion(prompt)\n",
        "print(response)\n"
      ]
    },
    {
      "cell_type": "markdown",
      "metadata": {
        "id": "7hMf6ZMj6j-6"
      },
      "source": [
        "## Summarize with a focus on shipping and delivery"
      ]
    },
    {
      "cell_type": "code",
      "execution_count": 8,
      "metadata": {
        "tags": [],
        "colab": {
          "base_uri": "https://localhost:8080/"
        },
        "id": "2wC92k5Q6j-7",
        "outputId": "e956ffcc-2ec1-4053-ba5f-c7bf902cb3df"
      },
      "outputs": [
        {
          "output_type": "stream",
          "name": "stdout",
          "text": [
            "The customer was pleased with the early delivery of the panda plush toy, but felt it was slightly small for the price paid.\n"
          ]
        }
      ],
      "source": [
        "prompt = f\"\"\"\n",
        "Your task is to generate a short summary of a product \\\n",
        "review from an ecommerce site to give feedback to the \\\n",
        "Shipping deparmtment.\n",
        "\n",
        "Summarize the review below, delimited by triple\n",
        "backticks, in at most 30 words, and focusing on any aspects \\\n",
        "that mention shipping and delivery of the product.\n",
        "\n",
        "Review: ```{prod_review}```\n",
        "\"\"\"\n",
        "\n",
        "response = get_completion(prompt)\n",
        "print(response)\n"
      ]
    },
    {
      "cell_type": "markdown",
      "metadata": {
        "id": "9TG0m5Dz6j-7"
      },
      "source": [
        "## Summarize with a focus on price and value"
      ]
    },
    {
      "cell_type": "code",
      "execution_count": 9,
      "metadata": {
        "tags": [],
        "colab": {
          "base_uri": "https://localhost:8080/"
        },
        "id": "g4ZSW8aV6j-8",
        "outputId": "8da3e144-99b0-47f2-8b5b-9869df568e06"
      },
      "outputs": [
        {
          "output_type": "stream",
          "name": "stdout",
          "text": [
            "The panda plush toy is loved for its softness and cuteness, but some customers feel it's a bit small for the price.\n"
          ]
        }
      ],
      "source": [
        "prompt = f\"\"\"\n",
        "Your task is to generate a short summary of a product \\\n",
        "review from an ecommerce site to give feedback to the \\\n",
        "pricing deparmtment, responsible for determining the \\\n",
        "price of the product.\n",
        "\n",
        "Summarize the review below, delimited by triple\n",
        "backticks, in at most 30 words, and focusing on any aspects \\\n",
        "that are relevant to the price and perceived value.\n",
        "\n",
        "Review: ```{prod_review}```\n",
        "\"\"\"\n",
        "\n",
        "response = get_completion(prompt)\n",
        "print(response)\n"
      ]
    },
    {
      "cell_type": "markdown",
      "metadata": {
        "id": "il67EveX6j-8"
      },
      "source": [
        "#### Comment\n",
        "- Summaries include topics that are not related to the topic of focus."
      ]
    },
    {
      "cell_type": "markdown",
      "metadata": {
        "id": "9xwRZq8K6j-9"
      },
      "source": [
        "## Try \"extract\" instead of \"summarize\""
      ]
    },
    {
      "cell_type": "code",
      "execution_count": 10,
      "metadata": {
        "tags": [],
        "colab": {
          "base_uri": "https://localhost:8080/"
        },
        "id": "ZkP3K1dd6j-9",
        "outputId": "160fbb16-c152-49cd-adc9-3118125b9625"
      },
      "outputs": [
        {
          "output_type": "stream",
          "name": "stdout",
          "text": [
            "Feedback: The product arrived a day earlier than expected, allowing the customer to play with it before giving it as a gift.\n"
          ]
        }
      ],
      "source": [
        "prompt = f\"\"\"\n",
        "Your task is to extract relevant information from \\\n",
        "a product review from an ecommerce site to give \\\n",
        "feedback to the Shipping department.\n",
        "\n",
        "From the review below, delimited by triple quotes \\\n",
        "extract the information relevant to shipping and \\\n",
        "delivery. Limit to 30 words.\n",
        "\n",
        "Review: ```{prod_review}```\n",
        "\"\"\"\n",
        "\n",
        "response = get_completion(prompt)\n",
        "print(response)"
      ]
    },
    {
      "cell_type": "markdown",
      "metadata": {
        "id": "CFWAjLwQ6j-9"
      },
      "source": [
        "## Summarize multiple product reviews"
      ]
    },
    {
      "cell_type": "code",
      "execution_count": 11,
      "metadata": {
        "tags": [],
        "id": "uKT-8wY96j-9"
      },
      "outputs": [],
      "source": [
        "\n",
        "review_1 = prod_review\n",
        "\n",
        "# review for a standing lamp\n",
        "review_2 = \"\"\"\n",
        "Needed a nice lamp for my bedroom, and this one \\\n",
        "had additional storage and not too high of a price \\\n",
        "point. Got it fast - arrived in 2 days. The string \\\n",
        "to the lamp broke during the transit and the company \\\n",
        "happily sent over a new one. Came within a few days \\\n",
        "as well. It was easy to put together. Then I had a \\\n",
        "missing part, so I contacted their support and they \\\n",
        "very quickly got me the missing piece! Seems to me \\\n",
        "to be a great company that cares about their customers \\\n",
        "and products.\n",
        "\"\"\"\n",
        "\n",
        "# review for an electric toothbrush\n",
        "review_3 = \"\"\"\n",
        "My dental hygienist recommended an electric toothbrush, \\\n",
        "which is why I got this. The battery life seems to be \\\n",
        "pretty impressive so far. After initial charging and \\\n",
        "leaving the charger plugged in for the first week to \\\n",
        "condition the battery, I've unplugged the charger and \\\n",
        "been using it for twice daily brushing for the last \\\n",
        "3 weeks all on the same charge. But the toothbrush head \\\n",
        "is too small. I’ve seen baby toothbrushes bigger than \\\n",
        "this one. I wish the head was bigger with different \\\n",
        "length bristles to get between teeth better because \\\n",
        "this one doesn’t.  Overall if you can get this one \\\n",
        "around the $50 mark, it's a good deal. The manufactuer's \\\n",
        "replacements heads are pretty expensive, but you can \\\n",
        "get generic ones that're more reasonably priced. This \\\n",
        "toothbrush makes me feel like I've been to the dentist \\\n",
        "every day. My teeth feel sparkly clean!\n",
        "\"\"\"\n",
        "\n",
        "# review for a blender\n",
        "review_4 = \"\"\"\n",
        "So, they still had the 17 piece system on seasonal \\\n",
        "sale for around $49 in the month of November, about \\\n",
        "half off, but for some reason (call it price gouging) \\\n",
        "around the second week of December the prices all went \\\n",
        "up to about anywhere from between $70-$89 for the same \\\n",
        "system. And the 11 piece system went up around $10 or \\\n",
        "so in price also from the earlier sale price of $29. \\\n",
        "So it looks okay, but if you look at the base, the part \\\n",
        "where the blade locks into place doesn’t look as good \\\n",
        "as in previous editions from a few years ago, but I \\\n",
        "plan to be very gentle with it (example, I crush \\\n",
        "very hard items like beans, ice, rice, etc. in the \\\n",
        "blender first then pulverize them in the serving size \\\n",
        "I want in the blender then switch to the whipping \\\n",
        "blade for a finer flour, and use the cross cutting blade \\\n",
        "first when making smoothies, then use the flat blade \\\n",
        "if I need them finer/less pulpy). Special tip when making \\\n",
        "smoothies, finely cut and freeze the fruits and \\\n",
        "vegetables (if using spinach-lightly stew soften the \\\n",
        "spinach then freeze until ready for use-and if making \\\n",
        "sorbet, use a small to medium sized food processor) \\\n",
        "that you plan to use that way you can avoid adding so \\\n",
        "much ice if at all-when making your smoothie. \\\n",
        "After about a year, the motor was making a funny noise. \\\n",
        "I called customer service but the warranty expired \\\n",
        "already, so I had to buy another one. FYI: The overall \\\n",
        "quality has gone done in these types of products, so \\\n",
        "they are kind of counting on brand recognition and \\\n",
        "consumer loyalty to maintain sales. Got it in about \\\n",
        "two days.\n",
        "\"\"\"\n",
        "\n",
        "reviews = [review_1, review_2, review_3, review_4]"
      ]
    },
    {
      "cell_type": "code",
      "execution_count": 12,
      "metadata": {
        "tags": [],
        "colab": {
          "base_uri": "https://localhost:8080/"
        },
        "id": "G1M0iWPu6j--",
        "outputId": "f96e7fdd-11b8-415f-a9a5-7ee55e61dcec"
      },
      "outputs": [
        {
          "output_type": "stream",
          "name": "stdout",
          "text": [
            "0 Summary: \n",
            "Adorable panda plush loved by daughter, but small for price. Arrived early, soft and cute. \n",
            "\n",
            "1 Summary: \n",
            "Affordable lamp with storage, fast delivery, excellent customer service for missing parts. Great company. \n",
            "\n",
            "2 Impressive battery life, small brush head, good deal for $50, generic replacement heads available, leaves teeth feeling clean. \n",
            "\n",
            "3 Mixed feelings on price changes, quality decline, and motor issues after a year of use. Delivery was prompt. \n",
            "\n"
          ]
        }
      ],
      "source": [
        "for i in range(len(reviews)):\n",
        "    prompt = f\"\"\"\n",
        "    Your task is to generate a short summary of a product \\\n",
        "    review from an ecommerce site.\n",
        "\n",
        "    Summarize the review below, delimited by triple \\\n",
        "    backticks in at most 20 words.\n",
        "\n",
        "    Review: ```{reviews[i]}```\n",
        "    \"\"\"\n",
        "\n",
        "    response = get_completion(prompt)\n",
        "    print(i, response, \"\\n\")"
      ]
    },
    {
      "cell_type": "markdown",
      "metadata": {
        "id": "kIK-J7RW6j-_"
      },
      "source": [
        "# Exercise\n",
        " - Complete the prompts similar to what we did in class.\n",
        "     - Try at least 3 versions\n",
        "     - Be creative\n",
        " - Write a one page report summarizing your findings.\n",
        "     - Were there variations that didn't work well? i.e., where GPT either hallucinated or wrong\n",
        " - What did you learn?"
      ]
    },
    {
      "cell_type": "code",
      "execution_count": 13,
      "metadata": {
        "id": "07bLTSYh6j_A"
      },
      "outputs": [],
      "source": [
        "review_6 = \"\"\"\n",
        "I wasn’t planning to buy new headphones, but I saw these \\\n",
        "on sale and decided to give them a try. Right out of the box, \\\n",
        "they looked stylish and felt lightweight. Pairing them with \\\n",
        "my phone was fast and easy. The sound quality? Honestly, \\\n",
        "better than I expected for the price. The bass is rich, and \\\n",
        "the highs are clear. I use them for work calls and music, \\\n",
        "and the battery lasts almost two days with moderate use. \\\n",
        "The only downside is the touch controls—they’re a bit \\\n",
        "sensitive and sometimes pause music by mistake. Still, for \\\n",
        "under $70, I’m really happy with this purchase.\n",
        "\"\"\""
      ]
    },
    {
      "cell_type": "markdown",
      "source": [
        "Objective:\n",
        "\n",
        "The task was to evaluate how effectively GPT can extract shipping and delivery-related information from product reviews on  \n",
        "e-commerce platforms.\n",
        "The goal was to assess the model's ability to follow focused instructions and return relevant, accurate content.\n",
        "\n",
        "\n",
        "Findings:\n",
        "\n",
        "GPT performed strongly when given a clear and well-defined prompt. In the tested review (for a pair of wireless headphones), there was no mention of shipping or delivery, and GPT correctly recognized that, responding appropriately. This demonstrates the model's ability to stay within task boundaries and avoid over-interpreting information.\n",
        "\n",
        "\n",
        "\n",
        "Failures or Hallucinations:\n",
        "\n",
        "No hallucinations were observed in this case. GPT did not invent or infer any shipping-related content that wasn’t in the original text. However, in similar tasks, hallucinations can occur when:\n",
        "\n",
        "-Prompts are vague or too broad.\n",
        "\n",
        "-Review language is ambiguous or indirect.\n",
        "\n",
        "-The model tries to anticipate user intent beyond the given content.\n",
        "\n",
        "\n",
        "Key Learnings:\n",
        "\n",
        "\n",
        "Effective prompt engineering is crucial for optimal GPT performance. The model is highly capable of extracting specific information when guided properly. Clear and focused prompts reduce the risk of hallucination and improve reliability. GPT shows strong potential for business applications like review analysis—when used with precision."
      ],
      "metadata": {
        "id": "xLttLpxDBRhL"
      }
    }
  ],
  "metadata": {
    "kernelspec": {
      "display_name": "Python 3 (ipykernel)",
      "language": "python",
      "name": "python3"
    },
    "language_info": {
      "codemirror_mode": {
        "name": "ipython",
        "version": 3
      },
      "file_extension": ".py",
      "mimetype": "text/x-python",
      "name": "python",
      "nbconvert_exporter": "python",
      "pygments_lexer": "ipython3",
      "version": "3.11.8"
    },
    "colab": {
      "provenance": []
    }
  },
  "nbformat": 4,
  "nbformat_minor": 0
}